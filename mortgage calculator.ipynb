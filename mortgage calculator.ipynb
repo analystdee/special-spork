{
 "cells": [
  {
   "cell_type": "code",
   "execution_count": 18,
   "id": "8981ce7c-d871-4a5d-b01b-9203210a04cd",
   "metadata": {},
   "outputs": [
    {
     "name": "stdout",
     "output_type": "stream",
     "text": [
      "699.2145085527765\n"
     ]
    }
   ],
   "source": [
    "# M- total monthly payment\n",
    "  # P-total amount of your loan (1000000)\n",
    "   #i- your interest rate (7.5)\n",
    "   #N- the ttotal amount of months in your timeline for paying off your mortgage (30*12)\n",
    "\n",
    "p=100000\n",
    "n = 30 *12\n",
    "i= 0.075/12\n",
    "m =p*(i*(1+i)**n)/((1+i)**n-1)\n",
    "print(m)\n"
   ]
  },
  {
   "cell_type": "code",
   "execution_count": 25,
   "id": "11d022c9-e897-43d1-9da5-98ca071bc46d",
   "metadata": {},
   "outputs": [
    {
     "name": "stdout",
     "output_type": "stream",
     "text": [
      "principal amount 100000\n",
      "please input the number of months to repay the loan 360\n",
      "annual interest of the bank 7.5\n"
     ]
    },
    {
     "name": "stdout",
     "output_type": "stream",
     "text": [
      "699.2145085527765\n"
     ]
    }
   ],
   "source": [
    "#mortgage calculator\n",
    "p= float(input('principal amount'))\n",
    "n= float(input('please input the number of months to repay the loan'))\n",
    "i_a= float(input('annual interest of the bank'))\n",
    "i= i_a/1200\n",
    "m= p*(i*(1+i)**n)/((1+i)**n-1)\n",
    "print(m)"
   ]
  },
  {
   "cell_type": "code",
   "execution_count": 34,
   "id": "3932f565-cbdd-46f4-a1ff-e2c575344f8a",
   "metadata": {},
   "outputs": [
    {
     "name": "stdout",
     "output_type": "stream",
     "text": [
      "251717.22307899952\n"
     ]
    }
   ],
   "source": [
    "#for a 30 year mortagege loan of 1000000 at an annual interest rate of 7.5% you pay $699.21 monthly\n",
    "\n",
    "total_amount_paid_back = m*360\n",
    "print(total_amount_paid_back)"
   ]
  },
  {
   "cell_type": "code",
   "execution_count": null,
   "id": "aeda4e64-6391-42cf-9f8b-9c2c45e29e62",
   "metadata": {},
   "outputs": [],
   "source": []
  }
 ],
 "metadata": {
  "kernelspec": {
   "display_name": "Python 3 (ipykernel)",
   "language": "python",
   "name": "python3"
  },
  "language_info": {
   "codemirror_mode": {
    "name": "ipython",
    "version": 3
   },
   "file_extension": ".py",
   "mimetype": "text/x-python",
   "name": "python",
   "nbconvert_exporter": "python",
   "pygments_lexer": "ipython3",
   "version": "3.10.9"
  }
 },
 "nbformat": 4,
 "nbformat_minor": 5
}
